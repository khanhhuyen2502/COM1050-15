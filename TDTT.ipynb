{
  "cells": [
    {
      "cell_type": "markdown",
      "metadata": {
        "id": "4TnJTnikfnpp"
      },
      "source": [
        "W2A3\n",
        "\n"
      ]
    },
    {
      "cell_type": "code",
      "execution_count": null,
      "metadata": {
        "colab": {
          "base_uri": "https://localhost:8080/"
        },
        "id": "7ZX929jcZR3r",
        "outputId": "67311452-1b0c-4d6e-edcf-10aa6dd85fc4"
      },
      "outputs": [
        {
          "name": "stdout",
          "output_type": "stream",
          "text": [
            "4 -2 3 0 0.3333333333333333\n"
          ]
        }
      ],
      "source": [
        "a = int(input(\"a= \"))\n",
        "b = int(input(\"b= \"))\n",
        "print(a+b,a-b,a*b,a//b,a/b)\n"
      ]
    },
    {
      "cell_type": "code",
      "execution_count": 2,
      "metadata": {
        "colab": {
          "base_uri": "https://localhost:8080/"
        },
        "id": "EWitszoGfmxZ",
        "outputId": "42e4e466-00e1-4c53-dcdb-3cc7ec9328ad"
      },
      "outputs": [
        {
          "ename": "ValueError",
          "evalue": "not enough values to unpack (expected 6, got 0)",
          "output_type": "error",
          "traceback": [
            "\u001b[31m---------------------------------------------------------------------------\u001b[39m",
            "\u001b[31mValueError\u001b[39m                                Traceback (most recent call last)",
            "\u001b[36mCell\u001b[39m\u001b[36m \u001b[39m\u001b[32mIn[2]\u001b[39m\u001b[32m, line 1\u001b[39m\n\u001b[32m----> \u001b[39m\u001b[32m1\u001b[39m a1,b1,c1,a2,b2,a3 = \u001b[38;5;28mmap\u001b[39m(\u001b[38;5;28mfloat\u001b[39m,\u001b[38;5;28minput\u001b[39m().split())\n\u001b[32m      2\u001b[39m TB = ((a1+b1+c1)+(a2+b2)*\u001b[32m2\u001b[39m+a3*\u001b[32m3\u001b[39m)/\u001b[32m10\u001b[39m\n\u001b[32m      3\u001b[39m \u001b[38;5;28mprint\u001b[39m(\u001b[38;5;28mround\u001b[39m(TB))\n",
            "\u001b[31mValueError\u001b[39m: not enough values to unpack (expected 6, got 0)"
          ]
        }
      ],
      "source": [
        "a1,b1,c1,a2,b2,a3 = map(float,input().split())\n",
        "TB = ((a1+b1+c1)+(a2+b2)*2+a3*3)/10\n",
        "print(round(TB))\n"
      ]
    },
    {
      "cell_type": "markdown",
      "metadata": {
        "id": "WJI8fNxSieFG"
      },
      "source": [
        "W2A5"
      ]
    },
    {
      "cell_type": "code",
      "execution_count": null,
      "metadata": {
        "colab": {
          "base_uri": "https://localhost:8080/"
        },
        "id": "tuTaApJjh0ja",
        "outputId": "9b0e7330-044d-4fa8-d7e2-b78a5790c02e"
      },
      "outputs": [
        {
          "name": "stdout",
          "output_type": "stream",
          "text": [
            "2 3\n",
            " a mũ b = 8.0\n"
          ]
        }
      ],
      "source": [
        "a, b = map(float,input().split())\n",
        "a_mu_b = a**b\n",
        "print(f\" a mũ b = {a_mu_b}\")"
      ]
    },
    {
      "cell_type": "markdown",
      "metadata": {
        "id": "6t1_BzOIiig2"
      },
      "source": [
        "W2A6"
      ]
    },
    {
      "cell_type": "code",
      "execution_count": null,
      "metadata": {
        "colab": {
          "base_uri": "https://localhost:8080/"
        },
        "id": "-sdpV9BpiiNl",
        "outputId": "594e18db-a97b-4ec2-9593-51455080c96a"
      },
      "outputs": [
        {
          "name": "stdout",
          "output_type": "stream",
          "text": [
            "g\n",
            "103\n",
            "G\n"
          ]
        }
      ],
      "source": [
        "a = input()\n",
        "print(ord(a))\n",
        "print(chr(ord(a) - 32))\n",
        "# print(a.upper())\n"
      ]
    },
    {
      "cell_type": "code",
      "execution_count": null,
      "metadata": {
        "id": "2l25hIEskrK5"
      },
      "outputs": [],
      "source": [
        "# W2A7\n",
        "A = ((13**2)*3)+5\n",
        "B = 13**2*3+5\n",
        "print(f\"ket_qua_A={A}, ket_qua_B={B}\")"
      ]
    },
    {
      "cell_type": "code",
      "execution_count": null,
      "metadata": {
        "id": "Nmj-dF81ly4E"
      },
      "outputs": [],
      "source": [
        "# W2A8\n",
        "C = int(input())\n",
        "F = 9/5*C + 32\n",
        "print(f\"{C} là {F:.2f}\")"
      ]
    },
    {
      "cell_type": "code",
      "execution_count": null,
      "metadata": {
        "colab": {
          "base_uri": "https://localhost:8080/"
        },
        "id": "dLkt_eL8mpPB",
        "outputId": "7d2a0153-fb01-4e09-a20a-49301281dd87"
      },
      "outputs": [
        {
          "name": "stdout",
          "output_type": "stream",
          "text": [
            "x= 2\n",
            "10.799999999999999\n"
          ]
        }
      ],
      "source": [
        "# W2A9\n",
        "x = int(input(\"x= \"))\n",
        "tong = 10+0.3*x+0.1*x\n",
        "print(tong)"
      ]
    },
    {
      "cell_type": "code",
      "execution_count": null,
      "metadata": {
        "colab": {
          "base_uri": "https://localhost:8080/"
        },
        "id": "FVrS9JIqn-xv",
        "outputId": "0d9d2dad-924e-4196-e1ac-0ecff58ae71e"
      },
      "outputs": [
        {
          "name": "stdout",
          "output_type": "stream",
          "text": [
            "số giờ:6\n",
            "số phút:5\n",
            "số giây là: 21900\n"
          ]
        }
      ],
      "source": [
        "# W2A11\n",
        "h = int(input(\"số giờ:\"))\n",
        "m = int(input(\"số phút:\"))\n",
        "giay = h*3600 + m*60\n",
        "print(f\"số giây là: {giay}\")"
      ]
    },
    {
      "cell_type": "code",
      "execution_count": null,
      "metadata": {
        "colab": {
          "base_uri": "https://localhost:8080/"
        },
        "id": "iGOfVBi3pkc0",
        "outputId": "ddff45d5-fd2f-42bb-986d-6f9518e03b5b"
      },
      "outputs": [
        {
          "name": "stdout",
          "output_type": "stream",
          "text": [
            "số cạnh:2\n",
            "24\n"
          ]
        }
      ],
      "source": [
        "# W2A12\n",
        "n = int(input(\"số cạnh:\"))\n",
        "so_mieng_dan = n*n*6\n",
        "print(so_mieng_dan)"
      ]
    },
    {
      "cell_type": "code",
      "execution_count": null,
      "metadata": {
        "colab": {
          "base_uri": "https://localhost:8080/"
        },
        "id": "zv0CPNYxrZvM",
        "outputId": "4202fa5e-ceb0-4c01-d00e-8d5c769a58b6"
      },
      "outputs": [
        {
          "name": "stdout",
          "output_type": "stream",
          "text": [
            "a=6\n",
            "b=8\n",
            "8\n"
          ]
        }
      ],
      "source": [
        "# W2A13\n",
        "a = int(input(\"a=\"))\n",
        "b = int(input(\"b=\"))\n",
        "tich = a*b\n",
        "print(tich%10)"
      ]
    },
    {
      "cell_type": "code",
      "execution_count": null,
      "metadata": {
        "colab": {
          "base_uri": "https://localhost:8080/"
        },
        "id": "0vmEx812r7Rx",
        "outputId": "60779302-d3f1-4d66-f9f2-e6ff37fbb44d"
      },
      "outputs": [
        {
          "name": "stdout",
          "output_type": "stream",
          "text": [
            "a=2\n",
            "b=4\n",
            "số a 4\n",
            "số b 2\n"
          ]
        }
      ],
      "source": [
        "# W2A14\n",
        "a = input(\"a= \")\n",
        "b = input(\"b= \")\n",
        "a, b=b, a\n",
        "print(\"số a\",a)\n",
        "print(\"số b\", b)"
      ]
    }
  ],
  "metadata": {
    "colab": {
      "provenance": []
    },
    "kernelspec": {
      "display_name": "Python 3",
      "name": "python3"
    },
    "language_info": {
      "codemirror_mode": {
        "name": "ipython",
        "version": 3
      },
      "file_extension": ".py",
      "mimetype": "text/x-python",
      "name": "python",
      "nbconvert_exporter": "python",
      "pygments_lexer": "ipython3",
      "version": "3.13.7"
    }
  },
  "nbformat": 4,
  "nbformat_minor": 0
}
