{
  "nbformat": 4,
  "nbformat_minor": 0,
  "metadata": {
    "colab": {
      "provenance": [],
      "include_colab_link": true
    },
    "kernelspec": {
      "name": "python3",
      "display_name": "Python 3"
    },
    "language_info": {
      "name": "python"
    }
  },
  "cells": [
    {
      "cell_type": "markdown",
      "metadata": {
        "id": "view-in-github",
        "colab_type": "text"
      },
      "source": [
        "<a href=\"https://colab.research.google.com/github/khanhhuyen2502/COM1050-15/blob/master/25023271_LeKhanhHuyen.ipynb\" target=\"_parent\"><img src=\"https://colab.research.google.com/assets/colab-badge.svg\" alt=\"Open In Colab\"/></a>"
      ]
    },
    {
      "cell_type": "code",
      "execution_count": null,
      "metadata": {
        "colab": {
          "base_uri": "https://localhost:8080/"
        },
        "id": "WWAXs7ay7evo",
        "outputId": "453ae865-4242-47ef-c6e7-fb2627f974ec"
      },
      "outputs": [
        {
          "output_type": "stream",
          "name": "stdout",
          "text": [
            "1\n",
            "3\n",
            "Trước khi hoán đổi:\n",
            "a= 1\n",
            "b= 3\n",
            "Sau khi hoán đổi:\n",
            "a= 3\n",
            "b= 1\n"
          ]
        }
      ],
      "source": [
        "#W3A2\n",
        "a = int(input())\n",
        "b = int(input())\n",
        "print(\"Trước khi hoán đổi:\")\n",
        "print(\"a= \",a)\n",
        "print(\"b= \",b)\n",
        "a= a ^ b\n",
        "b= a ^ b\n",
        "a= a ^ b\n",
        "print(\"Sau khi hoán đổi:\")\n",
        "print(\"a= \",a)\n",
        "print(\"b= \",b)"
      ]
    },
    {
      "cell_type": "code",
      "source": [
        "#W3A3\n",
        "n = int(input(\"Nhập n = \"))\n",
        "if n > 0 and n & (n-1) == 0:\n",
        "  print(f\"{n} là lũy thừa của 2\")\n",
        "else:\n",
        "  print(f\"{n} không phải là lũy thừa của 2\")"
      ],
      "metadata": {
        "colab": {
          "base_uri": "https://localhost:8080/"
        },
        "id": "JbWOXBki8HrK",
        "outputId": "e971366b-4d72-447f-d2c4-be98357de506"
      },
      "execution_count": null,
      "outputs": [
        {
          "output_type": "stream",
          "name": "stdout",
          "text": [
            "Nhập n = 16\n",
            "16 là lũy thừa của 2\n"
          ]
        }
      ]
    },
    {
      "cell_type": "code",
      "source": [
        "#W3A4\n",
        "import math\n",
        "m = int(input(\"Nhập m: \"))\n",
        "n = int(input(\"Nhập n: \"))\n",
        "ket_qua = math.floor(m/n)\n",
        "print(f\"{m} chia cho {n} = {ket_qua}\")"
      ],
      "metadata": {
        "colab": {
          "base_uri": "https://localhost:8080/"
        },
        "id": "KHgDHqMf8aJ1",
        "outputId": "08d17343-c714-470e-be31-fa2030cff7f5"
      },
      "execution_count": null,
      "outputs": [
        {
          "output_type": "stream",
          "name": "stdout",
          "text": [
            "Nhập m: 5\n",
            "Nhập n: 2\n",
            "5 chia cho 2 = 2\n"
          ]
        }
      ]
    },
    {
      "cell_type": "code",
      "source": [
        "#3A5\n",
        "import math\n",
        "m = int(input(\"Nhập m: \"))\n",
        "n = int(input(\"Nhập n: \"))\n",
        "ket_qua = math.ceil(m/n)\n",
        "print(f\"{m} chia cho {n} = {ket_qua}\")"
      ],
      "metadata": {
        "colab": {
          "base_uri": "https://localhost:8080/"
        },
        "id": "c656BYqU9I-e",
        "outputId": "ee5cc2db-0627-4832-fdd9-ec20b822dd61"
      },
      "execution_count": null,
      "outputs": [
        {
          "output_type": "stream",
          "name": "stdout",
          "text": [
            "Nhập m: 5\n",
            "Nhập n: 2\n",
            "5 chia cho 2 = 3\n"
          ]
        }
      ]
    },
    {
      "cell_type": "code",
      "source": [
        "#W3A6\n",
        "x = int(input(\"Nhập x: \"))\n",
        "if x % 2 == 0:\n",
        "    print(\"Even\")\n",
        "else:\n",
        "    print(\"Odd\")"
      ],
      "metadata": {
        "colab": {
          "base_uri": "https://localhost:8080/"
        },
        "id": "VxEg1wK0-cX_",
        "outputId": "44429708-597d-4f24-dfdb-029485560a44"
      },
      "execution_count": null,
      "outputs": [
        {
          "output_type": "stream",
          "name": "stdout",
          "text": [
            "Nhập x: 5\n",
            "Odd\n"
          ]
        }
      ]
    },
    {
      "cell_type": "code",
      "source": [
        "#3A7\n",
        "a = int(input(\"NHập a: \"))\n",
        "b = int(input(\"Nhập b: \"))\n",
        "if a < 0 and b < 0:\n",
        "  print(\"Yes\")\n",
        "else:\n",
        "  print(\"No\")"
      ],
      "metadata": {
        "colab": {
          "base_uri": "https://localhost:8080/"
        },
        "id": "DEOe9jeu-pi7",
        "outputId": "721363d1-8ba9-4f30-896f-b2016124c114"
      },
      "execution_count": null,
      "outputs": [
        {
          "output_type": "stream",
          "name": "stdout",
          "text": [
            "NHập a: 4\n",
            "Nhập b: -9\n",
            "No\n"
          ]
        }
      ]
    },
    {
      "cell_type": "code",
      "source": [
        "#3A8\n",
        "a = input(\"Nhập chuỗi a: \")\n",
        "b = input(\"Nhập chuỗi b: \")\n",
        "if len(a) > len(b):\n",
        "  print(\"True\")\n",
        "else:\n",
        "  print(\"False\")"
      ],
      "metadata": {
        "colab": {
          "base_uri": "https://localhost:8080/"
        },
        "id": "_XHazCxg-_Ov",
        "outputId": "3e048ae3-13c0-4fa1-9b18-2f97bc21c22e"
      },
      "execution_count": null,
      "outputs": [
        {
          "output_type": "stream",
          "name": "stdout",
          "text": [
            "Nhập chuỗi a:123\n",
            "Nhập chuỗi b:5678\n",
            "False\n"
          ]
        }
      ]
    },
    {
      "cell_type": "code",
      "source": [
        "#3A9\n",
        "a = int(input(\"Nhập a: \"))\n",
        "b = int(input(\"Nhập b: \"))\n",
        "c = int(input(\"Nhập c: \"))\n",
        "if a > 0 and b > 0 and c > 0 and a + b > c and b + c > a :\n",
        "  print(\"Yes\")\n",
        "else:\n",
        "  print(\"No\")"
      ],
      "metadata": {
        "colab": {
          "base_uri": "https://localhost:8080/"
        },
        "id": "o5afXfb5_PW8",
        "outputId": "5b0d4b40-a514-4ca7-a783-742b430ef415"
      },
      "execution_count": null,
      "outputs": [
        {
          "output_type": "stream",
          "name": "stdout",
          "text": [
            "Nhập a: 5\n",
            "Nhập b: 4\n",
            "Nhập c: 3\n",
            "Yes\n"
          ]
        }
      ]
    },
    {
      "cell_type": "code",
      "source": [
        "#3A10\n",
        "a,b,c,d = map(int,input().split())\n",
        "max_number = max(a,b,c,d)\n",
        "print(\"Số lớn nhất là:\", max_number )"
      ],
      "metadata": {
        "colab": {
          "base_uri": "https://localhost:8080/"
        },
        "id": "UxGgTu3h_6VU",
        "outputId": "29740d30-f520-41e3-c2a0-eb9d16eeafac"
      },
      "execution_count": null,
      "outputs": [
        {
          "output_type": "stream",
          "name": "stdout",
          "text": [
            "1 3 5 8\n",
            "Số lớn nhất là: 8\n"
          ]
        }
      ]
    },
    {
      "cell_type": "code",
      "source": [
        "#3A11\n",
        "a = int(input())\n",
        "b = int(input())\n",
        "c = int(input())\n",
        "if a > 0 and b > 0 and c > 0 and a + b > c and b + c > a :\n",
        "  if a == b == c:\n",
        "    print(\"Tam giác đều\")\n",
        "  elif a == b or a == c or b == c:\n",
        "    print(\"Tam giác cân\")\n",
        "  else:\n",
        "    print(\"Tam giác thường\")\n",
        "else:\n",
        "  print(\"Không phải tam giác\")"
      ],
      "metadata": {
        "colab": {
          "base_uri": "https://localhost:8080/"
        },
        "id": "urvzypZPAU7F",
        "outputId": "84a18499-30fc-4181-9818-3a0b0b9bf425"
      },
      "execution_count": null,
      "outputs": [
        {
          "output_type": "stream",
          "name": "stdout",
          "text": [
            "3 \n",
            "3\n",
            "4\n",
            "Tam giác cân\n"
          ]
        }
      ]
    },
    {
      "cell_type": "code",
      "source": [
        "#3A12\n",
        "year = int(input(\"Nhập năm: \"))\n",
        "if year % 400 == 0:\n",
        "  print(\"Yes\")\n",
        "elif year % 4 == 0 and year % 100 != 0:\n",
        "  print(\"Yes\")\n",
        "else:\n",
        "  print(\"No\")"
      ],
      "metadata": {
        "colab": {
          "base_uri": "https://localhost:8080/"
        },
        "id": "YN25vzycBD8v",
        "outputId": "a86d2986-9894-445c-e9da-8cc3120f9601"
      },
      "execution_count": null,
      "outputs": [
        {
          "output_type": "stream",
          "name": "stdout",
          "text": [
            "Nhập năm: 1990\n",
            "No\n"
          ]
        }
      ]
    },
    {
      "cell_type": "code",
      "source": [
        "#3A14\n",
        "a = float(input(\"Nhập a: \"))\n",
        "b = float(input(\"Nhập b: \"))\n",
        "if a == 0:\n",
        "    if b == 0:\n",
        "        print(\"Vô số nghiệm\")\n",
        "    else:\n",
        "        print(\"Vô nghiệm\")\n",
        "else:\n",
        "    x = -b / a\n",
        "    print(f\"Nghiệm của phương trình là: {x:.2f}\")"
      ],
      "metadata": {
        "colab": {
          "base_uri": "https://localhost:8080/"
        },
        "id": "uwu9RLMSCUjq",
        "outputId": "b557305c-8875-4158-9a55-3022927830c6"
      },
      "execution_count": null,
      "outputs": [
        {
          "output_type": "stream",
          "name": "stdout",
          "text": [
            "Nhập a: 3\n",
            "Nhập b: 8\n",
            "Nghiệm của phương trình là: -2.67\n"
          ]
        }
      ]
    },
    {
      "cell_type": "code",
      "source": [
        "#3A15\n",
        "điem_Tb = float(input(\"Nhập điểm trung bình:\"))\n",
        "if điem_Tb >= 8.0:\n",
        "  print(\"Giỏi\")\n",
        "elif điem_Tb >= 6.5:\n",
        "  print(\"Khá\")\n",
        "elif điem_Tb >= 5.0:\n",
        "  print(\"Trung bình\")\n",
        "else:\n",
        "  print(\"Yếu\")"
      ],
      "metadata": {
        "colab": {
          "base_uri": "https://localhost:8080/"
        },
        "id": "6O2L0fieDqEj",
        "outputId": "2dfc7615-0d57-4375-ed20-e7f21be30152"
      },
      "execution_count": null,
      "outputs": [
        {
          "output_type": "stream",
          "name": "stdout",
          "text": [
            "Nhập điểm trung bình:7\n",
            "Khá\n"
          ]
        }
      ]
    },
    {
      "cell_type": "code",
      "source": [
        "#3A16\n",
        "import math\n",
        "x = float(input(\"Nhập x: \"))\n",
        "print(math.ceil(x))\n",
        "print(math.floor(x))\n",
        "print(round(x))"
      ],
      "metadata": {
        "colab": {
          "base_uri": "https://localhost:8080/"
        },
        "id": "Fj5fgYamEGVU",
        "outputId": "6629cd9a-3e66-4580-8356-0ba32ab0667c"
      },
      "execution_count": null,
      "outputs": [
        {
          "output_type": "stream",
          "name": "stdout",
          "text": [
            "Nhập x: 5.9\n",
            "6\n",
            "5\n",
            "6\n"
          ]
        }
      ]
    },
    {
      "cell_type": "code",
      "source": [
        "#3A17\n",
        "a = int(input(\"Nhập a: \"))\n",
        "b = int(input(\"Nhập b: \"))\n",
        "c = int(input(\"Nhập c: \"))\n",
        "d = int(input(\"Nhập d: \"))\n",
        "if b % a == 0:\n",
        "    q = b // a\n",
        "    if b * q == c and c * q == d:\n",
        "        print(\"Đây là cấp số nhân với công bội nguyên\", q)\n",
        "    else:\n",
        "        print(\"Không phải cấp số nhân\")\n",
        "else:\n",
        "    print(\"Không phải cấp số nhân\")"
      ],
      "metadata": {
        "colab": {
          "base_uri": "https://localhost:8080/"
        },
        "id": "Z7ypVhnFElko",
        "outputId": "8d1791b4-34b7-4d69-b7f5-feea16fe584d"
      },
      "execution_count": null,
      "outputs": [
        {
          "output_type": "stream",
          "name": "stdout",
          "text": [
            "Nhập a: 4\n",
            "Nhập b: 8\n",
            "Nhập c: 6\n",
            "Nhập d: 5\n",
            "Không phải cấp số nhân\n"
          ]
        }
      ]
    }
  ]
}